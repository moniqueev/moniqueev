{
  "nbformat": 4,
  "nbformat_minor": 0,
  "metadata": {
    "colab": {
      "provenance": [],
      "authorship_tag": "ABX9TyPOP84j0h6NYJo3dsQLIncP",
      "include_colab_link": true
    },
    "kernelspec": {
      "name": "python3",
      "display_name": "Python 3"
    },
    "language_info": {
      "name": "python"
    }
  },
  "cells": [
    {
      "cell_type": "markdown",
      "metadata": {
        "id": "view-in-github",
        "colab_type": "text"
      },
      "source": [
        "<a href=\"https://colab.research.google.com/github/moniqueev/moniqueev/blob/main/title_metadescription.ipynb\" target=\"_parent\"><img src=\"https://colab.research.google.com/assets/colab-badge.svg\" alt=\"Open In Colab\"/></a>"
      ]
    },
    {
      "cell_type": "code",
      "execution_count": 4,
      "metadata": {
        "colab": {
          "base_uri": "https://localhost:8080/"
        },
        "id": "sJuOIvjIP_AH",
        "outputId": "9fae3283-c833-40e3-d7eb-a46ece6ce089"
      },
      "outputs": [
        {
          "output_type": "stream",
          "name": "stdout",
          "text": [
            "Extraction complete. Results saved to custom_extraction.csv.\n"
          ]
        }
      ],
      "source": [
        "import csv\n",
        "import requests\n",
        "from bs4 import BeautifulSoup\n",
        "\n",
        "def extract_title_and_meta(url):\n",
        "    try:\n",
        "        # Send an HTTP GET request to the URL and get the response\n",
        "        response = requests.get(url)\n",
        "\n",
        "        # Parse the response content using BeautifulSoup\n",
        "        soup = BeautifulSoup(response.content, 'html.parser')\n",
        "\n",
        "        # Extract the title and meta description from the HTML\n",
        "        title = soup.title.string.strip() if soup.title else \"N/A\"\n",
        "        meta_tag = soup.find(\"meta\", attrs={\"name\": \"description\"})\n",
        "        meta_description = meta_tag[\"content\"].strip() if meta_tag else \"N/A\"\n",
        "\n",
        "        return title, meta_description\n",
        "    except Exception as e:\n",
        "        # If any error occurs during the extraction, handle it and return \"N/A\" values\n",
        "        print(f\"Error occurred while processing {url}: {e}\")\n",
        "        return \"N/A\", \"N/A\"\n",
        "\n",
        "def main():\n",
        "    # Initialize the input and output file names\n",
        "    input_file = \"input.csv\"\n",
        "    output_file = \"custom_extraction.csv\"\n",
        "\n",
        "    try:\n",
        "        # Create a CSV file to store the extracted data\n",
        "        with open(output_file, mode='w', newline='', encoding='utf-8') as output_csv:\n",
        "            csv_writer = csv.writer(output_csv)\n",
        "            csv_writer.writerow(['URL', 'Title', 'Meta Description'])\n",
        "\n",
        "            # Read the URLs from the input file\n",
        "            with open(input_file, mode='r', encoding='utf-8') as input_csv:\n",
        "                csv_reader = csv.reader(input_csv)\n",
        "                next(csv_reader)  # Skip the header row\n",
        "\n",
        "                for row in csv_reader:\n",
        "                    url = row[0].strip()\n",
        "\n",
        "                    # Extract title and meta description for each URL\n",
        "                    title, meta_description = extract_title_and_meta(url)\n",
        "\n",
        "                    # Write the results to the output CSV file\n",
        "                    csv_writer.writerow([url, title, meta_description])\n",
        "\n",
        "            print(\"Extraction complete. Results saved to custom_extraction.csv.\")\n",
        "\n",
        "    except Exception as e:\n",
        "        print(f\"An error occurred: {e}\")\n",
        "\n",
        "if __name__ == \"__main__\":\n",
        "    main()\n"
      ]
    }
  ]
}